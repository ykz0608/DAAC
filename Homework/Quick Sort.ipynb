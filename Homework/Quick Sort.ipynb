{
 "cells": [
  {
   "cell_type": "markdown",
   "metadata": {},
   "source": [
    "# Homework1: Quick Sort"
   ]
  },
  {
   "cell_type": "code",
   "execution_count": 275,
   "metadata": {},
   "outputs": [
    {
     "name": "stdout",
     "output_type": "stream",
     "text": [
      "before\n",
      "[54, 20, 67, 1, 25, 12, 40, 20, 32, 21]\n",
      "after\n"
     ]
    },
    {
     "data": {
      "text/plain": [
       "[1, 12, 20, 20, 21, 25, 32, 40, 54, 67]"
      ]
     },
     "execution_count": 275,
     "metadata": {},
     "output_type": "execute_result"
    }
   ],
   "source": [
    "import random\n",
    "import numpy as np\n",
    "x = np.random.randint(1,100,10)\n",
    "#隨機生成數字\n",
    "array = x.tolist()\n",
    "#轉換成list\n",
    "\n",
    "def QS(data):\n",
    "    left = []\n",
    "    mid = []\n",
    "    right = []\n",
    "    \n",
    "    if len(data) <= 1:\n",
    "        #結束條件少於1時 \n",
    "        return data\n",
    "    else: \n",
    "        pivot = data[0] \n",
    "        # 基準點\n",
    "        for i in data:\n",
    "            #分類\n",
    "            if i < pivot:\n",
    "                left.append(i) \n",
    "            elif i > pivot:\n",
    "                right.append(i)\n",
    "            else :\n",
    "                mid.append(i)\n",
    "        return QS(left)+mid+QS(right) \n",
    "    # 用之前的函数再分類,排序\n",
    "\n",
    "print('before') \n",
    "print(array)\n",
    "print('after') \n",
    "QS(array)\n"
   ]
  }
 ],
 "metadata": {
  "kernelspec": {
   "display_name": "Python 3",
   "language": "python",
   "name": "python3"
  },
  "language_info": {
   "codemirror_mode": {
    "name": "ipython",
    "version": 3
   },
   "file_extension": ".py",
   "mimetype": "text/x-python",
   "name": "python",
   "nbconvert_exporter": "python",
   "pygments_lexer": "ipython3",
   "version": "3.7.3"
  }
 },
 "nbformat": 4,
 "nbformat_minor": 4
}

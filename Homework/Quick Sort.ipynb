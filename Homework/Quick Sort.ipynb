{
 "cells": [
  {
   "cell_type": "code",
   "execution_count": 117,
   "metadata": {},
   "outputs": [
    {
     "name": "stdout",
     "output_type": "stream",
     "text": [
      "[74, 78, 52, 20, 94, 65, 61, 49, 21, 90] 49\n"
     ]
    }
   ],
   "source": [
    "import random\n",
    "import numpy as np\n",
    "x = np.random.randint(1,100,10)\n",
    "array = x.tolist()\n",
    "pivot = random.choice(array) \n",
    "print(array,pivot)\n"
   ]
  },
  {
   "cell_type": "code",
   "execution_count": 120,
   "metadata": {},
   "outputs": [],
   "source": [
    "def quicksort(data):\n",
    "    left = []\n",
    "    right = []\n",
    "    pivotpoint=[]\n",
    "    \n",
    "    for i in data:\n",
    "        if i > pivot:\n",
    "            right.append(i)\n",
    "        elif i < pivot:\n",
    "            left.appenf(i)\n",
    "        else :\n",
    "            pivotpoint.append(i)\n",
    "            \n",
    "    return left+pivotpoint+right\n",
    "        \n",
    "        \n",
    "    \n",
    "    "
   ]
  },
  {
   "cell_type": "code",
   "execution_count": 266,
   "metadata": {},
   "outputs": [
    {
     "ename": "IndexError",
     "evalue": "list index out of range",
     "output_type": "error",
     "traceback": [
      "\u001b[1;31m---------------------------------------------------------------------------\u001b[0m",
      "\u001b[1;31mIndexError\u001b[0m                                Traceback (most recent call last)",
      "\u001b[1;32m<ipython-input-266-a6971f412e38>\u001b[0m in \u001b[0;36m<module>\u001b[1;34m\u001b[0m\n\u001b[0;32m     29\u001b[0m     \u001b[1;32mreturn\u001b[0m \u001b[0mleft1\u001b[0m \u001b[1;33m+\u001b[0m \u001b[0mmid\u001b[0m \u001b[1;33m+\u001b[0m \u001b[0mright1\u001b[0m\u001b[1;33m\u001b[0m\u001b[1;33m\u001b[0m\u001b[0m\n\u001b[0;32m     30\u001b[0m \u001b[1;33m\u001b[0m\u001b[0m\n\u001b[1;32m---> 31\u001b[1;33m \u001b[0msort1\u001b[0m\u001b[1;33m(\u001b[0m\u001b[0marray\u001b[0m\u001b[1;33m)\u001b[0m\u001b[1;33m\u001b[0m\u001b[1;33m\u001b[0m\u001b[0m\n\u001b[0m",
      "\u001b[1;32m<ipython-input-266-a6971f412e38>\u001b[0m in \u001b[0;36msort1\u001b[1;34m(data)\u001b[0m\n\u001b[0;32m     17\u001b[0m \u001b[1;33m\u001b[0m\u001b[0m\n\u001b[0;32m     18\u001b[0m     \u001b[1;32melse\u001b[0m \u001b[1;33m:\u001b[0m\u001b[1;33m\u001b[0m\u001b[1;33m\u001b[0m\u001b[0m\n\u001b[1;32m---> 19\u001b[1;33m         \u001b[0mpivot\u001b[0m \u001b[1;33m=\u001b[0m \u001b[0mdata\u001b[0m\u001b[1;33m[\u001b[0m\u001b[0mq\u001b[0m\u001b[1;33m]\u001b[0m\u001b[1;33m\u001b[0m\u001b[1;33m\u001b[0m\u001b[0m\n\u001b[0m\u001b[0;32m     20\u001b[0m         \u001b[1;32mfor\u001b[0m \u001b[0mi\u001b[0m \u001b[1;32min\u001b[0m \u001b[0mdata\u001b[0m\u001b[1;33m:\u001b[0m\u001b[1;33m\u001b[0m\u001b[1;33m\u001b[0m\u001b[0m\n\u001b[0;32m     21\u001b[0m             \u001b[1;32mif\u001b[0m \u001b[0mi\u001b[0m \u001b[1;33m<\u001b[0m \u001b[0mpivot\u001b[0m\u001b[1;33m:\u001b[0m\u001b[1;33m\u001b[0m\u001b[1;33m\u001b[0m\u001b[0m\n",
      "\u001b[1;31mIndexError\u001b[0m: list index out of range"
     ]
    }
   ],
   "source": [
    "import random\n",
    "import numpy as np\n",
    "x = np.random.randint(1,100,10)\n",
    "array = x.tolist()\n",
    "\n",
    "def sort1(data):\n",
    "    \n",
    "    y = np.random.randint(0,10,1)\n",
    "    p = y.tolist()\n",
    "    q = random.choice(array)\n",
    "    left = []\n",
    "    right = []\n",
    "    mid = []\n",
    "    \n",
    "    if len(data) <= 1: \n",
    "        return data\n",
    "    \n",
    "    else : \n",
    "        pivot = data[0]\n",
    "        for i in data:\n",
    "            if i < pivot:\n",
    "                left.append(i)\n",
    "            elif i > pivot:\n",
    "                right.append(i)\n",
    "            else:\n",
    "                mid.append(i)\n",
    "    left1=sort1(left)\n",
    "    right1=sort1(right)\n",
    "    return left1 + mid + right1\n",
    "\n",
    "sort1(array)   \n"
   ]
  },
  {
   "cell_type": "code",
   "execution_count": 271,
   "metadata": {},
   "outputs": [
    {
     "name": "stdout",
     "output_type": "stream",
     "text": [
      "before\n",
      "[65, 86, 89, 42, 69, 97, 63, 58, 40, 13]\n",
      "after\n"
     ]
    },
    {
     "data": {
      "text/plain": [
       "[13, 40, 42, 58, 63, 65, 69, 86, 89, 97]"
      ]
     },
     "execution_count": 271,
     "metadata": {},
     "output_type": "execute_result"
    }
   ],
   "source": [
    "import random\n",
    "import numpy as np\n",
    "x = np.random.randint(1,100,10)\n",
    "#隨機生成數字\n",
    "array = x.tolist()\n",
    "#轉換成list\n",
    "\n",
    "def QS(data):\n",
    "    left = []\n",
    "    mid = []\n",
    "    right = []\n",
    "    \n",
    "    if len(data) <= 1:\n",
    "        #結束條件少於1時 \n",
    "        return data\n",
    "    else: \n",
    "        pivot = data[0] \n",
    "        # 基準點\n",
    "        for i in data:\n",
    "            #分類\n",
    "            if i < pivot:\n",
    "                left.append(i) \n",
    "            elif i > pivot:\n",
    "                right.append(i)\n",
    "            else :\n",
    "                mid.append(i)\n",
    "        return QS(left)+mid+QS(right) \n",
    "    # 用之前的函数再分類,排序\n",
    "\n",
    "print('before') \n",
    "print(array)\n",
    "print('after') \n",
    "QS(array)\n"
   ]
  },
  {
   "cell_type": "code",
   "execution_count": 141,
   "metadata": {},
   "outputs": [
    {
     "name": "stdout",
     "output_type": "stream",
     "text": [
      "[150 136 423 633 195 416 265 993 347 980]\n"
     ]
    },
    {
     "data": {
      "text/plain": [
       "[136, 150, 195, 265, 347, 416, 423, 633, 980, 993]"
      ]
     },
     "execution_count": 141,
     "metadata": {},
     "output_type": "execute_result"
    }
   ],
   "source": [
    "arr = [10, 7, 8, 9, 1, 5]\n",
    "x = np.random.randint(1,1000,10)\n",
    "array = x.tolist()\n",
    "print(x)\n",
    "sort(array)\n"
   ]
  },
  {
   "cell_type": "code",
   "execution_count": 8,
   "metadata": {},
   "outputs": [
    {
     "data": {
      "text/plain": [
       "[85, 59, 78, 8, 65, 48, 40, 84, 72, 8, 5]"
      ]
     },
     "execution_count": 8,
     "metadata": {},
     "output_type": "execute_result"
    }
   ],
   "source": [
    "x = np.random.randint(1,100,10)\n",
    "array = x.tolist()\n",
    "y = np.random.randint(0,10,1)\n",
    "pivot = y.tolist()\n",
    "array+pivot\n",
    "\n"
   ]
  }
 ],
 "metadata": {
  "kernelspec": {
   "display_name": "Python 3",
   "language": "python",
   "name": "python3"
  },
  "language_info": {
   "codemirror_mode": {
    "name": "ipython",
    "version": 3
   },
   "file_extension": ".py",
   "mimetype": "text/x-python",
   "name": "python",
   "nbconvert_exporter": "python",
   "pygments_lexer": "ipython3",
   "version": "3.7.3"
  }
 },
 "nbformat": 4,
 "nbformat_minor": 4
}

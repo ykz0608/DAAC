{
 "cells": [
  {
   "cell_type": "markdown",
   "metadata": {},
   "source": [
    "# HW2 HEAP SORT\n",
    "# **學習歷程：**\n",
    "\n",
    "**heap sort 是什麽？**\n",
    "* 選擇排序法的概念簡單，以降冪為例，每次從未排序部份選一最小值，插入已排序部份的後端，其時間主要花費於在整個未排序部份尋找最小值，如果能讓搜尋最小值的方式加 快，選擇排序法的速率也就可以加快，Heap排序法讓搜尋的路徑由樹根至最後一個樹葉，而不是整個未排序部份，因而稱之為改良的選擇排序法。\n",
    "\n",
    "**解法**\n",
    "* Heap排序法使用堆積樹（Heap tree），樹是一種資料結構，而堆積樹是一個二元樹，每個父節點最多只有兩個子節點，堆積樹的 父節點若小於子節點，則稱之為最小堆積（Min heap），父節點若大於子節點，則稱之為最大堆積（Max heap），而同一層的子節點則無需理會其大小關係，可以使用一維陣列來儲存堆積樹的所有元素與其順序，為了計算方便，使用的起始索引是1而不是0，索引1是樹根位置，如果左子節點儲存在陣列中的索引為s，則其父節點的索引為s/2，而右子節點為s+1。\n",
    "\n",
    "* 首先必須知道如何建立堆積樹，以最小堆積為例，加至堆積樹的元素會先放置在最後一個樹葉節點位置，然後檢查父節點是否小於子節點，將小的元素不斷與父節點交換，直到滿足堆積樹的條件為止，建立好堆積樹之後，樹根一定是所有元素的最小值。\n",
    "* 排序應用時：\n",
    "1. 將最小值取出 \n",
    "2. 調整樹為最小堆積樹\n",
    "\n",
    "\n",
    "* 不斷重複以上的步驟，就可以達到排序的效果，最小值取出方式是將樹根與最後一個樹葉節點交換，然後切下樹葉節點，重新調整樹為堆積樹，調整過程中，找出父節點兩子節點中較小的一個進行交換，調整完畢後，樹根節點又是最小值了，於是可以重覆這個步驟，再取出最小值，並調整樹為堆積樹，如此重覆步驟之後，由於使用一維陣列來儲存堆積樹，每次將樹葉與樹根交換的動作就是將最小值放至後端的陣列，所以最後陣列就是變為已排序的狀態。\n",
    "\n",
    "* 堆積樹在建立時，就樹葉到樹根的路徑來看，是氣泡排序。堆積排序若看每次選出最小值樹根與最後一個樹葉交換，是選擇排序，後續進行調整的過程中，就樹根到樹葉的路徑來看，實際上也在進行氣泡排序。如果以視覺化來看排序過程，已排序部份的出現可很明顯地看出像是選擇排序，調整過程則沒那麼明顯的視覺效果，因此Heap排序法被稱為改良的選擇排序法。\n",
    "\n",
    "**過程分為**\n",
    "1. 建立heap\n",
    "2. 提取最大值\n",
    "3. 放在序列最後\n",
    "4. 重複指導排序完成\n",
    "\n",
    "**總結**\n",
    "* 是利用堆性質的一種選擇排序，在堆頂選出最大值或者最小值\n",
    "* 堆排序的時間複雜度為O(nlogn)。\n",
    "* 由於堆排序對原始記錄的排序狀態並不敏感，因此它無論是最好、最壞和平均時間複雜度均為O(nlogn)。"
   ]
  },
  {
   "cell_type": "markdown",
   "metadata": {},
   "source": [
    "# 參考資料\n",
    "\n",
    "其他參考網站:\n",
    ">* https://openhome.cc/Gossip/AlgorithmGossip/HeapSort.htm#Python\n",
    ">* http://www.pianshen.com/article/7788199455/\n",
    "\n",
    "程式碼參考網站:\n",
    ">* https://github.com/pecu/DSA/blob/master/06_HeapSort/heapSort.py\n",
    ">* https://www.iteye.com/blog/2057-1897176\n",
    ">* https://blog.csdn.net/weixin_37621790/article/details/86695537"
   ]
  },
  {
   "cell_type": "markdown",
   "metadata": {},
   "source": [
    "可以用的package **heapq**"
   ]
  },
  {
   "cell_type": "code",
   "execution_count": 37,
   "metadata": {},
   "outputs": [
    {
     "name": "stdout",
     "output_type": "stream",
     "text": [
      "[0, 1, 2, 3, 4, 5, 6, 7, 8, 9]\n"
     ]
    }
   ],
   "source": [
    "from heapq import heappush,heappop  \n",
    "  \n",
    "def heap_sort(iterable):  \n",
    "    h = []  \n",
    "    for value in iterable:  \n",
    "        heappush(h, value)  \n",
    "    return [heappop(h) for i in range(len(h))]  \n",
    "  \n",
    "def main():  \n",
    "    L = [1, 3, 5, 7, 9, 2, 4, 6, 8, 0]  \n",
    "    print( heap_sort(L)  )\n",
    "  \n",
    "if __name__ == \"__main__\":  \n",
    "    main()  "
   ]
  },
  {
   "cell_type": "markdown",
   "metadata": {},
   "source": [
    "老師的例子"
   ]
  },
  {
   "cell_type": "code",
   "execution_count": 39,
   "metadata": {},
   "outputs": [
    {
     "name": "stdout",
     "output_type": "stream",
     "text": [
      "Sorted array is\n",
      "5\n",
      "6\n",
      "7\n",
      "11\n",
      "12\n",
      "13\n"
     ]
    }
   ],
   "source": [
    "# Python program for implementation of heap Sort \n",
    "\n",
    "# To heapify subtree rooted at index i. \n",
    "# n is size of heap \n",
    "def heapify(arr, n, i): \n",
    "    largest = i # Initialize largest as root \n",
    "    l = 2 * i + 1    # left = 2*i + 1 \n",
    "    r = 2 * i + 2    # right = 2*i + 2 \n",
    "\n",
    "    # See if left child of root exists and is \n",
    "    # greater than root \n",
    "    if l < n and arr[i] < arr[l]: \n",
    "        largest = l \n",
    "\n",
    "    # See if right child of root exists and is \n",
    "    # greater than root \n",
    "    if r < n and arr[largest] < arr[r]: \n",
    "        largest = r \n",
    "\n",
    "    # Change root, if needed \n",
    "    if largest != i: \n",
    "        arr[i],arr[largest] = arr[largest],arr[i] # swap \n",
    "\n",
    "        # Heapify the root. \n",
    "        heapify(arr, n, largest) \n",
    "\n",
    "# The main function to sort an array of given size \n",
    "def heapSort(arr): \n",
    "    n = len(arr) \n",
    "\n",
    "    # Build a maxheap. \n",
    "    for i in range(n, -1, -1): \n",
    "        heapify(arr, n, i) \n",
    "\n",
    "    # One by one extract elements \n",
    "    for i in range(n-1, 0, -1): \n",
    "        arr[i], arr[0] = arr[0], arr[i] # swap \n",
    "        heapify(arr, i, 0) \n",
    "\n",
    "# Driver code to test above \n",
    "arr = [ 12, 11, 13, 5, 6, 7] \n",
    "heapSort(arr) \n",
    "n = len(arr) \n",
    "print (\"Sorted array is\") \n",
    "for i in range(n): \n",
    "    print (\"%d\" %arr[i]), \n",
    "# This code is contributed by Mohit Kumra "
   ]
  },
  {
   "cell_type": "markdown",
   "metadata": {},
   "source": [
    "**理解概念之後畫出的**\n",
    "# **流程圖**"
   ]
  },
  {
   "cell_type": "code",
   "execution_count": 40,
   "metadata": {},
   "outputs": [
    {
     "data": {
      "text/html": [
       "<img src=\"https://i.imgur.com/pe8nsYL.png\" width=\"1000\" height=\"1000\"/>"
      ],
      "text/plain": [
       "<IPython.core.display.Image object>"
      ]
     },
     "execution_count": 40,
     "metadata": {},
     "output_type": "execute_result"
    }
   ],
   "source": [
    "from IPython.display import Image, display\n",
    "Image(url= \"https://i.imgur.com/pe8nsYL.png\",width = 1000,height = 1000)"
   ]
  },
  {
   "cell_type": "markdown",
   "metadata": {},
   "source": [
    "# 程式碼\n",
    "\n",
    "自己尝试寫一次:"
   ]
  },
  {
   "cell_type": "markdown",
   "metadata": {},
   "source": [
    "測試數值"
   ]
  },
  {
   "cell_type": "code",
   "execution_count": 44,
   "metadata": {},
   "outputs": [
    {
     "name": "stdout",
     "output_type": "stream",
     "text": [
      "測試數值= [21, 87, -23, 67, -4, 30, -74, 31, -21, 77]\n"
     ]
    }
   ],
   "source": [
    "import random\n",
    "import pandas \n",
    "import numpy as np\n",
    "\n",
    "x = np.random.randint(-100,100,10)\n",
    "#隨機生成數字\n",
    "arr = x.tolist()\n",
    "print(\"測試數值=\",arr)"
   ]
  },
  {
   "cell_type": "markdown",
   "metadata": {},
   "source": [
    "建立heapify"
   ]
  },
  {
   "cell_type": "code",
   "execution_count": 55,
   "metadata": {},
   "outputs": [],
   "source": [
    "def heapify(data, root, n):\n",
    "    largest = root #建立root\n",
    "    left = 2 * root + 1 \n",
    "    #proof\n",
    "    # if root=0,left1=2*0+1=1\n",
    "    # if root=1,left2=2*1+1=3\n",
    "    \n",
    "    right = 2 * root + 2\n",
    "    #proof\n",
    "    # if root=0,left1=2*0+2=2,\n",
    "    # if root=1,left2=2*1+2=4,\n",
    "    \n",
    "    if left < n and data[left] > data[root]:\n",
    "        largest = left\n",
    "        #if left的index大於root 交换位置\n",
    "        \n",
    "    if right < n and data[right] > data[root]:\n",
    "        largest = right\n",
    "        #if right的index大於root 交换位置\n",
    "        \n",
    "    if largest != root:#改變root\n",
    "        data[largest], data[root] = data[root], data[largest]\n",
    "        #兩個交換\n",
    "        heapify(data, largest , n)"
   ]
  },
  {
   "cell_type": "markdown",
   "metadata": {},
   "source": [
    "建立heap sort"
   ]
  },
  {
   "cell_type": "code",
   "execution_count": 58,
   "metadata": {},
   "outputs": [],
   "source": [
    "def heap_sort(data):\n",
    "    n = len(data)\n",
    "    for i in range(n // 2 - 1, -1, -1):\n",
    "        heapify(data, i, n)\n",
    "        #建立Max-Heap\n",
    "    for i in range(n - 1, 0, -1):\n",
    "        data[0], data[i] = data[i],data[0]\n",
    "        heapify(data, 0, i)\n",
    "    return data"
   ]
  },
  {
   "cell_type": "markdown",
   "metadata": {},
   "source": [
    "第一次尝试不成功。。。"
   ]
  },
  {
   "cell_type": "code",
   "execution_count": 59,
   "metadata": {},
   "outputs": [
    {
     "data": {
      "text/plain": [
       "[-74, -4, 31, 21, -23, -21, 30, 77, 67, 87]"
      ]
     },
     "execution_count": 59,
     "metadata": {},
     "output_type": "execute_result"
    }
   ],
   "source": [
    "heap_sort(arr)"
   ]
  },
  {
   "cell_type": "markdown",
   "metadata": {},
   "source": [
    "修復錯誤ing"
   ]
  },
  {
   "cell_type": "code",
   "execution_count": 101,
   "metadata": {},
   "outputs": [],
   "source": [
    "def heapify(data, root, n):\n",
    "    largest = root #建立root\n",
    "    left = 2 * root + 1 \n",
    "    #proof\n",
    "    # if root=0,left1=2*0+1=1\n",
    "    # if root=1,left2=2*1+1=3\n",
    "    \n",
    "    right = 2 * root + 2\n",
    "    #proof\n",
    "    # if root=0,left1=2*0+2=2,\n",
    "    # if root=1,left2=2*1+2=4,\n",
    "    \n",
    "    if left < n and data[left] > data[largest]:\n",
    "        largest = left\n",
    "        #if left的index大於root 交换位置\n",
    "        \n",
    "    if right < n and data[right] > data[largest]:\n",
    "        largest = right\n",
    "        #if right的index大於root 交换位置\n",
    "        \n",
    "    if largest != root:#改變root\n",
    "        data[largest], data[root] = data[root], data[largest]\n",
    "        #兩個交換\n",
    "        heapify(data, largest , n)\n",
    "\n",
    "def heap_sort(data):\n",
    "    n = len(data)\n",
    "    for i in range(n // 2 - 1, -1, -1):\n",
    "        heapify(data, i, n)\n",
    "        #建立Max-Heap\n",
    "    for i in range(n - 1, 0, -1):\n",
    "        data[0], data[i] = data[i],data[0]\n",
    "        heapify(data, 0, i)\n",
    "    return data\n"
   ]
  },
  {
   "cell_type": "markdown",
   "metadata": {},
   "source": [
    "finally!!!root的位置很重要 要定義好"
   ]
  },
  {
   "cell_type": "code",
   "execution_count": 102,
   "metadata": {},
   "outputs": [
    {
     "data": {
      "text/plain": [
       "[-74, -23, -21, -4, 21, 30, 31, 67, 77, 87]"
      ]
     },
     "execution_count": 102,
     "metadata": {},
     "output_type": "execute_result"
    }
   ],
   "source": [
    "heap_sort(arr)"
   ]
  },
  {
   "cell_type": "markdown",
   "metadata": {},
   "source": [
    "接下來開始自己的想法"
   ]
  },
  {
   "cell_type": "code",
   "execution_count": 104,
   "metadata": {},
   "outputs": [],
   "source": [
    "def main():\n",
    "    heap_sort(arr)\n",
    "    print(arr)"
   ]
  },
  {
   "cell_type": "code",
   "execution_count": 107,
   "metadata": {},
   "outputs": [],
   "source": [
    "def left(i):\n",
    "    return 2 * (i + 1) - 1\n",
    "\n",
    "def right(i):\n",
    "    return 2 * (i + 1)\n",
    "\n",
    "def parent():\n",
    "    return (i + 1) * 2 - 1"
   ]
  },
  {
   "cell_type": "code",
   "execution_count": 129,
   "metadata": {},
   "outputs": [
    {
     "name": "stdout",
     "output_type": "stream",
     "text": [
      "[5, 2, 3, 4, 1]\n"
     ]
    }
   ],
   "source": [
    "def max_heapify(A, i):\n",
    "    \"\"\"\n",
    "    保持堆的属性\n",
    "    A: list of ints\n",
    "    i: index of node to examine\n",
    "\n",
    "    \"\"\"\n",
    "    l = left(i)\n",
    "    r = right(i)\n",
    "\n",
    "    if l < len(A) and A[l] > A[i]:\n",
    "        largest = l\n",
    "    else:\n",
    "        largest = i\n",
    "\n",
    "    if r < len(A) and A[r] > A[largest]:\n",
    "        largest = r\n",
    "\n",
    "    if largest != i:\n",
    "        A[i],A[largest] = A[largest],A[i]\n",
    "        max_heapify(A,largest)\n",
    "\n",
    "if __name__ == '__main__':\n",
    "    A=[1,2,3,4,5]\n",
    "    max_heapify(A,0)\n",
    "    print(A)\n",
    "\n",
    "输出结果为：\n",
    "[3, 2, 1, 4, 5]"
   ]
  },
  {
   "cell_type": "code",
   "execution_count": 133,
   "metadata": {},
   "outputs": [],
   "source": [
    "def build_max_head(A):\n",
    "    i = len(A) / 2 - 1\n",
    "    while i >= 0:\n",
    "        max_heapify(A, i)\n",
    "        i -= 1\n",
    "\n",
    "\n",
    "if __name__ == '__main__':\n",
    "    A=[1,2,3,4,5]\n",
    "    build_max_head(A)\n",
    "    print(A)\n",
    "\n",
    "输出结果为：\n",
    "[5, 4, 3, 1, 2]\n",
    "这个结果大家可以自行推导"
   ]
  },
  {
   "cell_type": "code",
   "execution_count": 134,
   "metadata": {},
   "outputs": [],
   "source": [
    "def head_sort(A):\n",
    "    result = []\n",
    "    build_max_head(A)\n",
    "    while len(A) > 1:\n",
    "        result.append(A[0])\n",
    "        A[0],A[len(A)-1] = A[len(A)-1],A[0]\n",
    "        A = A[:-1]\n",
    "        max_heapify(A,0)\n",
    "    result.extend(A)\n",
    "    return result\n",
    "\n",
    "if __name__ == '__main__':\n",
    "    A=[1,2,3,4,5,7,8,10,400]\n",
    "    result = head_sort(A)\n",
    "    print(result)\n",
    "\n",
    "输出结果为：\n",
    "[400, 10, 8, 7, 5, 4, 3, 2, 1]"
   ]
  },
  {
   "cell_type": "code",
   "execution_count": 135,
   "metadata": {},
   "outputs": [
    {
     "ename": "TypeError",
     "evalue": "list indices must be integers or slices, not float",
     "output_type": "error",
     "traceback": [
      "\u001b[1;31m---------------------------------------------------------------------------\u001b[0m",
      "\u001b[1;31mTypeError\u001b[0m                                 Traceback (most recent call last)",
      "\u001b[1;32m<ipython-input-135-7c744dc28eb9>\u001b[0m in \u001b[0;36m<module>\u001b[1;34m\u001b[0m\n\u001b[1;32m----> 1\u001b[1;33m \u001b[0mhead_sort\u001b[0m\u001b[1;33m(\u001b[0m\u001b[0marr\u001b[0m\u001b[1;33m)\u001b[0m\u001b[1;33m\u001b[0m\u001b[1;33m\u001b[0m\u001b[0m\n\u001b[0m",
      "\u001b[1;32m<ipython-input-134-6df3d8ebdb3f>\u001b[0m in \u001b[0;36mhead_sort\u001b[1;34m(n)\u001b[0m\n\u001b[0;32m      1\u001b[0m \u001b[1;32mdef\u001b[0m \u001b[0mhead_sort\u001b[0m\u001b[1;33m(\u001b[0m\u001b[0mn\u001b[0m\u001b[1;33m)\u001b[0m\u001b[1;33m:\u001b[0m\u001b[1;33m\u001b[0m\u001b[1;33m\u001b[0m\u001b[0m\n\u001b[0;32m      2\u001b[0m     \u001b[0mresult\u001b[0m \u001b[1;33m=\u001b[0m \u001b[1;33m[\u001b[0m\u001b[1;33m]\u001b[0m\u001b[1;33m\u001b[0m\u001b[1;33m\u001b[0m\u001b[0m\n\u001b[1;32m----> 3\u001b[1;33m     \u001b[0mbuild_max_head\u001b[0m\u001b[1;33m(\u001b[0m\u001b[0mn\u001b[0m\u001b[1;33m)\u001b[0m\u001b[1;33m\u001b[0m\u001b[1;33m\u001b[0m\u001b[0m\n\u001b[0m\u001b[0;32m      4\u001b[0m     \u001b[1;32mwhile\u001b[0m \u001b[0mlen\u001b[0m\u001b[1;33m(\u001b[0m\u001b[0mn\u001b[0m\u001b[1;33m)\u001b[0m \u001b[1;33m>\u001b[0m \u001b[1;36m1\u001b[0m\u001b[1;33m:\u001b[0m\u001b[1;33m\u001b[0m\u001b[1;33m\u001b[0m\u001b[0m\n\u001b[0;32m      5\u001b[0m         \u001b[0mresult\u001b[0m\u001b[1;33m.\u001b[0m\u001b[0mappend\u001b[0m\u001b[1;33m(\u001b[0m\u001b[0mn\u001b[0m\u001b[1;33m[\u001b[0m\u001b[1;36m0\u001b[0m\u001b[1;33m]\u001b[0m\u001b[1;33m)\u001b[0m\u001b[1;33m\u001b[0m\u001b[1;33m\u001b[0m\u001b[0m\n",
      "\u001b[1;32m<ipython-input-133-ee01f762537c>\u001b[0m in \u001b[0;36mbuild_max_head\u001b[1;34m(n)\u001b[0m\n\u001b[0;32m      2\u001b[0m     \u001b[0mindex\u001b[0m \u001b[1;33m=\u001b[0m \u001b[0mlen\u001b[0m\u001b[1;33m(\u001b[0m\u001b[0mn\u001b[0m\u001b[1;33m)\u001b[0m \u001b[1;33m/\u001b[0m \u001b[1;36m2\u001b[0m \u001b[1;33m-\u001b[0m \u001b[1;36m1\u001b[0m\u001b[1;33m\u001b[0m\u001b[1;33m\u001b[0m\u001b[0m\n\u001b[0;32m      3\u001b[0m     \u001b[1;32mwhile\u001b[0m \u001b[0mindex\u001b[0m \u001b[1;33m>=\u001b[0m \u001b[1;36m0\u001b[0m\u001b[1;33m:\u001b[0m\u001b[1;33m\u001b[0m\u001b[1;33m\u001b[0m\u001b[0m\n\u001b[1;32m----> 4\u001b[1;33m         \u001b[0mmax_heapify\u001b[0m\u001b[1;33m(\u001b[0m\u001b[0mn\u001b[0m\u001b[1;33m,\u001b[0m \u001b[0mindex\u001b[0m\u001b[1;33m)\u001b[0m\u001b[1;33m\u001b[0m\u001b[1;33m\u001b[0m\u001b[0m\n\u001b[0m\u001b[0;32m      5\u001b[0m         \u001b[0mindex\u001b[0m \u001b[1;33m-=\u001b[0m \u001b[1;36m1\u001b[0m\u001b[1;33m\u001b[0m\u001b[1;33m\u001b[0m\u001b[0m\n",
      "\u001b[1;32m<ipython-input-129-fd61bb65b433>\u001b[0m in \u001b[0;36mmax_heapify\u001b[1;34m(n, index)\u001b[0m\n\u001b[0;32m      4\u001b[0m     \u001b[0mr\u001b[0m \u001b[1;33m=\u001b[0m \u001b[0mright\u001b[0m\u001b[1;33m(\u001b[0m\u001b[0mindex\u001b[0m\u001b[1;33m)\u001b[0m\u001b[1;33m\u001b[0m\u001b[1;33m\u001b[0m\u001b[0m\n\u001b[0;32m      5\u001b[0m \u001b[1;33m\u001b[0m\u001b[0m\n\u001b[1;32m----> 6\u001b[1;33m     \u001b[1;32mif\u001b[0m \u001b[0ml\u001b[0m \u001b[1;33m<\u001b[0m \u001b[0mlen\u001b[0m\u001b[1;33m(\u001b[0m\u001b[0mn\u001b[0m\u001b[1;33m)\u001b[0m \u001b[1;32mand\u001b[0m \u001b[0mn\u001b[0m\u001b[1;33m[\u001b[0m\u001b[0ml\u001b[0m\u001b[1;33m]\u001b[0m \u001b[1;33m>\u001b[0m \u001b[0mn\u001b[0m\u001b[1;33m[\u001b[0m\u001b[0mindex\u001b[0m\u001b[1;33m]\u001b[0m\u001b[1;33m:\u001b[0m\u001b[1;33m\u001b[0m\u001b[1;33m\u001b[0m\u001b[0m\n\u001b[0m\u001b[0;32m      7\u001b[0m         \u001b[0mlargest\u001b[0m \u001b[1;33m=\u001b[0m \u001b[0ml\u001b[0m\u001b[1;33m\u001b[0m\u001b[1;33m\u001b[0m\u001b[0m\n\u001b[0;32m      8\u001b[0m     \u001b[1;32melse\u001b[0m\u001b[1;33m:\u001b[0m\u001b[1;33m\u001b[0m\u001b[1;33m\u001b[0m\u001b[0m\n",
      "\u001b[1;31mTypeError\u001b[0m: list indices must be integers or slices, not float"
     ]
    }
   ],
   "source": [
    "head_sort(arr)"
   ]
  }
 ],
 "metadata": {
  "kernelspec": {
   "display_name": "Python 3",
   "language": "python",
   "name": "python3"
  },
  "language_info": {
   "codemirror_mode": {
    "name": "ipython",
    "version": 3
   },
   "file_extension": ".py",
   "mimetype": "text/x-python",
   "name": "python",
   "nbconvert_exporter": "python",
   "pygments_lexer": "ipython3",
   "version": "3.7.4"
  }
 },
 "nbformat": 4,
 "nbformat_minor": 4
}

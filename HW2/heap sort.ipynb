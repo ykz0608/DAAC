{
 "cells": [
  {
   "cell_type": "markdown",
   "metadata": {},
   "source": [
    "# HW2 HEAP SORT\n",
    "# **學習歷程：**\n",
    "\n",
    "**heap sort 是什麽？**\n",
    "* 選擇排序法的概念簡單，以降冪為例，每次從未排序部份選一最小值，插入已排序部份的後端，其時間主要花費於在整個未排序部份尋找最小值，如果能讓搜尋最小值的方式加 快，選擇排序法的速率也就可以加快，Heap排序法讓搜尋的路徑由樹根至最後一個樹葉，而不是整個未排序部份，因而稱之為改良的選擇排序法。\n",
    "\n",
    "**解法**\n",
    "* Heap排序法使用堆積樹（Heap tree），樹是一種資料結構，而堆積樹是一個二元樹，每個父節點最多只有兩個子節點，堆積樹的 父節點若小於子節點，則稱之為最小堆積（Min heap），父節點若大於子節點，則稱之為最大堆積（Max heap），而同一層的子節點則無需理會其大小關係，可以使用一維陣列來儲存堆積樹的所有元素與其順序，為了計算方便，使用的起始索引是1而不是0，索引1是樹根位置，如果左子節點儲存在陣列中的索引為s，則其父節點的索引為s/2，而右子節點為s+1。\n",
    "\n",
    "* 首先必須知道如何建立堆積樹，以最小堆積為例，加至堆積樹的元素會先放置在最後一個樹葉節點位置，然後檢查父節點是否小於子節點，將小的元素不斷與父節點交換，直到滿足堆積樹的條件為止，建立好堆積樹之後，樹根一定是所有元素的最小值。\n",
    "* 排序應用時：\n",
    "1. 將最小值取出 \n",
    "2. 調整樹為最小堆積樹\n",
    "\n",
    "\n",
    "* 不斷重複以上的步驟，就可以達到排序的效果，最小值取出方式是將樹根與最後一個樹葉節點交換，然後切下樹葉節點，重新調整樹為堆積樹，調整過程中，找出父節點兩子節點中較小的一個進行交換，調整完畢後，樹根節點又是最小值了，於是可以重覆這個步驟，再取出最小值，並調整樹為堆積樹，如此重覆步驟之後，由於使用一維陣列來儲存堆積樹，每次將樹葉與樹根交換的動作就是將最小值放至後端的陣列，所以最後陣列就是變為已排序的狀態。\n",
    "\n",
    "* 堆積樹在建立時，就樹葉到樹根的路徑來看，是氣泡排序。堆積排序若看每次選出最小值樹根與最後一個樹葉交換，是選擇排序，後續進行調整的過程中，就樹根到樹葉的路徑來看，實際上也在進行氣泡排序。如果以視覺化來看排序過程，已排序部份的出現可很明顯地看出像是選擇排序，調整過程則沒那麼明顯的視覺效果，因此Heap排序法被稱為改良的選擇排序法。\n",
    "\n",
    "**總結**\n",
    "* 是利用堆性質的一種選擇排序，在堆頂選出最大值或者最小值\n",
    "* 堆排序的時間複雜度為O(nlogn)。\n",
    "* 由於堆排序對原始記錄的排序狀態並不敏感，因此它無論是最好、最壞和平均時間複雜度均為O(nlogn)。"
   ]
  },
  {
   "cell_type": "markdown",
   "metadata": {},
   "source": [
    "# 參考資料\n",
    "\n",
    "參考網站:\n",
    ">* https://github.com/pecu/DSA/blob/master/06_HeapSort/heapSort.py\n",
    ">* https://openhome.cc/Gossip/AlgorithmGossip/HeapSort.htm#Python\n",
    ">* http://www.pianshen.com/article/7788199455/\n",
    ">* https://www.iteye.com/blog/2057-1897176\n",
    ">* https://blog.csdn.net/weixin_37621790/article/details/86695537\n",
    ">* https://blog.csdn.net/huang_yong_peng/article/details/81879990\n",
    ">* https://www.cnblogs.com/yinzhengjie/p/10970889.html\n",
    ">* https://www.runoob.com/python/att-dictionary-copy.html\n",
    ">* https://towardsdatascience.com/data-structure-heap-23d4c78a6962\n",
    ">* https://github.com/python/cpython/blob/master/Lib/heapq.py\n",
    ">* https://docs.python.org/3/library/heapq.html\n",
    ">* https://www.geeksforgeeks.org/iterative-heap-sort/"
   ]
  },
  {
   "cell_type": "markdown",
   "metadata": {},
   "source": [
    "可以用的package **heapq**"
   ]
  },
  {
   "cell_type": "code",
   "execution_count": 37,
   "metadata": {},
   "outputs": [
    {
     "name": "stdout",
     "output_type": "stream",
     "text": [
      "[0, 1, 2, 3, 4, 5, 6, 7, 8, 9]\n"
     ]
    }
   ],
   "source": [
    "from heapq import heappush,heappop  \n",
    "  \n",
    "def heap_sort(iterable):  \n",
    "    h = []  \n",
    "    for value in iterable:  \n",
    "        heappush(h, value)  \n",
    "    return [heappop(h) for i in range(len(h))]  \n",
    "  \n",
    "def main():  \n",
    "    L = [1, 3, 5, 7, 9, 2, 4, 6, 8, 0]  \n",
    "    print( heap_sort(L)  )\n",
    "  \n",
    "if __name__ == \"__main__\":  \n",
    "    main()  "
   ]
  },
  {
   "cell_type": "markdown",
   "metadata": {},
   "source": [
    "老師的例子"
   ]
  },
  {
   "cell_type": "code",
   "execution_count": 39,
   "metadata": {},
   "outputs": [
    {
     "name": "stdout",
     "output_type": "stream",
     "text": [
      "Sorted array is\n",
      "5\n",
      "6\n",
      "7\n",
      "11\n",
      "12\n",
      "13\n"
     ]
    }
   ],
   "source": [
    "# Python program for implementation of heap Sort \n",
    "\n",
    "# To heapify subtree rooted at index i. \n",
    "# n is size of heap \n",
    "def heapify(arr, n, i): \n",
    "    largest = i # Initialize largest as root \n",
    "    l = 2 * i + 1    # left = 2*i + 1 \n",
    "    r = 2 * i + 2    # right = 2*i + 2 \n",
    "\n",
    "    # See if left child of root exists and is \n",
    "    # greater than root \n",
    "    if l < n and arr[i] < arr[l]: \n",
    "        largest = l \n",
    "\n",
    "    # See if right child of root exists and is \n",
    "    # greater than root \n",
    "    if r < n and arr[largest] < arr[r]: \n",
    "        largest = r \n",
    "\n",
    "    # Change root, if needed \n",
    "    if largest != i: \n",
    "        arr[i],arr[largest] = arr[largest],arr[i] # swap \n",
    "\n",
    "        # Heapify the root. \n",
    "        heapify(arr, n, largest) \n",
    "\n",
    "# The main function to sort an array of given size \n",
    "def heapSort(arr): \n",
    "    n = len(arr) \n",
    "\n",
    "    # Build a maxheap. \n",
    "    for i in range(n, -1, -1): \n",
    "        heapify(arr, n, i) \n",
    "\n",
    "    # One by one extract elements \n",
    "    for i in range(n-1, 0, -1): \n",
    "        arr[i], arr[0] = arr[0], arr[i] # swap \n",
    "        heapify(arr, i, 0) \n",
    "\n",
    "# Driver code to test above \n",
    "arr = [ 12, 11, 13, 5, 6, 7] \n",
    "heapSort(arr) \n",
    "n = len(arr) \n",
    "print (\"Sorted array is\") \n",
    "for i in range(n): \n",
    "    print (\"%d\" %arr[i]), \n",
    "# This code is contributed by Mohit Kumra "
   ]
  },
  {
   "cell_type": "markdown",
   "metadata": {},
   "source": [
    "**理解概念之後畫出的**\n",
    "# **流程圖**"
   ]
  },
  {
   "cell_type": "code",
   "execution_count": 40,
   "metadata": {},
   "outputs": [
    {
     "data": {
      "text/html": [
       "<img src=\"https://i.imgur.com/pe8nsYL.png\" width=\"1000\" height=\"1000\"/>"
      ],
      "text/plain": [
       "<IPython.core.display.Image object>"
      ]
     },
     "execution_count": 40,
     "metadata": {},
     "output_type": "execute_result"
    }
   ],
   "source": [
    "from IPython.display import Image, display\n",
    "Image(url= \"https://i.imgur.com/pe8nsYL.png\",width = 1000,height = 1000)"
   ]
  },
  {
   "cell_type": "markdown",
   "metadata": {},
   "source": [
    "# 程式碼\n",
    "\n",
    "自己尝试寫一次:"
   ]
  },
  {
   "cell_type": "markdown",
   "metadata": {},
   "source": [
    "測試數值"
   ]
  },
  {
   "cell_type": "code",
   "execution_count": 55,
   "metadata": {},
   "outputs": [
    {
     "name": "stdout",
     "output_type": "stream",
     "text": [
      "測試數值= [-49, 78, 0, 94, -98, -98, -73, 42, -78, 43]\n"
     ]
    }
   ],
   "source": [
    "import random\n",
    "import pandas \n",
    "import numpy as np\n",
    "\n",
    "x = np.random.randint(-100,100,10)\n",
    "#隨機生成數字\n",
    "arr = x.tolist()\n",
    "print(\"測試數值=\",arr)"
   ]
  },
  {
   "cell_type": "markdown",
   "metadata": {},
   "source": [
    "建立heapify"
   ]
  },
  {
   "cell_type": "code",
   "execution_count": 55,
   "metadata": {},
   "outputs": [],
   "source": [
    "def heapify(data, root, n):\n",
    "    largest = root #建立root\n",
    "    left = 2 * root + 1 \n",
    "    #proof\n",
    "    # if root=0,left1=2*0+1=1\n",
    "    # if root=1,left2=2*1+1=3\n",
    "    \n",
    "    right = 2 * root + 2\n",
    "    #proof\n",
    "    # if root=0,left1=2*0+2=2,\n",
    "    # if root=1,left2=2*1+2=4,\n",
    "    \n",
    "    if left < n and data[left] > data[root]:\n",
    "        largest = left\n",
    "        #if left的index大於root 交换位置\n",
    "        \n",
    "    if right < n and data[right] > data[root]:\n",
    "        largest = right\n",
    "        #if right的index大於root 交换位置\n",
    "        \n",
    "    if largest != root:#改變root\n",
    "        data[largest], data[root] = data[root], data[largest]\n",
    "        #兩個交換\n",
    "        heapify(data, largest , n)"
   ]
  },
  {
   "cell_type": "markdown",
   "metadata": {},
   "source": [
    "建立heap sort"
   ]
  },
  {
   "cell_type": "code",
   "execution_count": 58,
   "metadata": {},
   "outputs": [],
   "source": [
    "def heap_sort(data):\n",
    "    n = len(data)\n",
    "    for i in range(n // 2 - 1, -1, -1):\n",
    "        heapify(data, i, n)\n",
    "        #建立Max-Heap\n",
    "    for i in range(n - 1, 0, -1):\n",
    "        data[0], data[i] = data[i],data[0]\n",
    "        heapify(data, 0, i)\n",
    "    return data"
   ]
  },
  {
   "cell_type": "markdown",
   "metadata": {},
   "source": [
    "第一次嘗試不成功。。。"
   ]
  },
  {
   "cell_type": "code",
   "execution_count": 59,
   "metadata": {},
   "outputs": [
    {
     "data": {
      "text/plain": [
       "[-74, -4, 31, 21, -23, -21, 30, 77, 67, 87]"
      ]
     },
     "execution_count": 59,
     "metadata": {},
     "output_type": "execute_result"
    }
   ],
   "source": [
    "heap_sort(arr)"
   ]
  },
  {
   "cell_type": "markdown",
   "metadata": {},
   "source": [
    "修復錯誤ing"
   ]
  },
  {
   "cell_type": "code",
   "execution_count": 145,
   "metadata": {},
   "outputs": [],
   "source": [
    "def heapify(data, root, n):\n",
    "    largest = root #建立root\n",
    "    left = 2 * root + 1 \n",
    "    #proof\n",
    "    # if root=0,left1=2*0+1=1\n",
    "    # if root=1,left2=2*1+1=3\n",
    "    \n",
    "    right = 2 * root + 2\n",
    "    #proof\n",
    "    # if root=0,left1=2*0+2=2,\n",
    "    # if root=1,left2=2*1+2=4,\n",
    "    \n",
    "    if left < n and data[left] > data[largest]:\n",
    "        largest = left\n",
    "        #if left的index大於root 交换位置\n",
    "        \n",
    "    if right < n and data[right] > data[largest]:\n",
    "        largest = right\n",
    "        #if right的index大於root 交换位置\n",
    "        \n",
    "    if largest != root:#改變root\n",
    "        data[largest], data[root] = data[root], data[largest]\n",
    "        #兩個交換\n",
    "        heapify(data, largest , n)\n",
    "\n",
    "def heap_sort(data):\n",
    "    n = len(data)\n",
    "    for i in range(n , -1, -1):\n",
    "        heapify(data, i, n)\n",
    "        #建立Max-Heap\n",
    "    for i in range(n - 1, 0, -1):\n",
    "        data[0], data[i] = data[i],data[0]\n",
    "        heapify(data, 0, i)\n",
    "    return data\n"
   ]
  },
  {
   "cell_type": "markdown",
   "metadata": {},
   "source": [
    "經過嘗試后。。。finally!!!root的位置很重要 要定義好"
   ]
  },
  {
   "cell_type": "code",
   "execution_count": 146,
   "metadata": {},
   "outputs": [
    {
     "data": {
      "text/plain": [
       "[-74, -23, -21, -4, 21, 30, 31, 67, 77, 87]"
      ]
     },
     "execution_count": 146,
     "metadata": {},
     "output_type": "execute_result"
    }
   ],
   "source": [
    "heap_sort(arr)"
   ]
  },
  {
   "cell_type": "markdown",
   "metadata": {},
   "source": [
    "# 接下來開始作業\n",
    "過程分為\n",
    "\n",
    "1. 建立heap\n",
    "2. 提取最小值\n",
    "3. 放在序列最後\n",
    "4. 然後交換到新序列裡\n",
    "5. 重複指導排序完成"
   ]
  },
  {
   "cell_type": "markdown",
   "metadata": {},
   "source": [
    "# 直接賦值和 copy 的區別\n",
    "dict1 =  {'user':'runoob','num':[1,2,3]}\n",
    " \n",
    "dict2 = dict1          # 淺拷貝: 引用對象\n",
    "dict3 = dict1.copy()   # 淺拷貝：深拷貝父對象（一級目錄），子對象（二級目錄）不拷貝，還是引用\n",
    " \n",
    "# 修改 data 數據\n",
    "dict1['user']='root'\n",
    "dict1['num'].remove(1)\n",
    " \n",
    "# 輸出結果\n",
    "print(dict1)\n",
    "print(dict2)\n",
    "print(dict3)\n",
    "\n",
    "{'num': [2, 3], 'user': 'root'}\n",
    "{'num': [2, 3], 'user': 'root'}\n",
    "{'num': [2, 3], 'user': 'runoob'}"
   ]
  },
  {
   "cell_type": "markdown",
   "metadata": {},
   "source": [
    "# flow"
   ]
  },
  {
   "cell_type": "code",
   "execution_count": 148,
   "metadata": {},
   "outputs": [
    {
     "name": "stdout",
     "output_type": "stream",
     "text": [
      "a, [-94, -67, -65, 2, -57, 68, 23, 83, 22, -16]\n",
      "b [-67, -57, -65, 2, -16, 68, 23, 83, 22] [-94]\n",
      "c [-67, -57, -65, 2, -16, 68, 23, 83, 22] [-94]\n",
      "b [-65, -57, 22, 2, -16, 68, 23, 83] [-94, -67]\n",
      "c [-65, -57, 22, 2, -16, 68, 23, 83] [-94, -67]\n",
      "b [-57, -16, 22, 2, 83, 68, 23] [-94, -67, -65]\n",
      "c [-57, -16, 22, 2, 83, 68, 23] [-94, -67, -65]\n",
      "b [-16, 2, 22, 23, 83, 68] [-94, -67, -65, -57]\n",
      "c [-16, 2, 22, 23, 83, 68] [-94, -67, -65, -57]\n",
      "b [2, 23, 22, 68, 83] [-94, -67, -65, -57, -16]\n",
      "c [2, 23, 22, 68, 83] [-94, -67, -65, -57, -16]\n",
      "b [22, 23, 83, 68] [-94, -67, -65, -57, -16, 2]\n",
      "c [22, 23, 83, 68] [-94, -67, -65, -57, -16, 2]\n",
      "b [23, 68, 83] [-94, -67, -65, -57, -16, 2, 22]\n",
      "c [23, 68, 83] [-94, -67, -65, -57, -16, 2, 22]\n",
      "b [68, 83] [-94, -67, -65, -57, -16, 2, 22, 23]\n",
      "c [68, 83] [-94, -67, -65, -57, -16, 2, 22, 23]\n",
      "b [83] [-94, -67, -65, -57, -16, 2, 22, 23, 68]\n",
      "c [83] [-94, -67, -65, -57, -16, 2, 22, 23, 68]\n",
      "b [] [-94, -67, -65, -57, -16, 2, 22, 23, 68, 83]\n",
      "c [] [-94, -67, -65, -57, -16, 2, 22, 23, 68, 83]\n",
      "a, [-94, -67, -65, 2, -57, 68, 23, 83, 22, -16]\n",
      "b [-67, -57, -65, 2, -16, 68, 23, 83, 22] [-94]\n",
      "c [-67, -57, -65, 2, -16, 68, 23, 83, 22] [-94]\n",
      "b [-65, -57, 22, 2, -16, 68, 23, 83] [-94, -67]\n",
      "c [-65, -57, 22, 2, -16, 68, 23, 83] [-94, -67]\n",
      "b [-57, -16, 22, 2, 83, 68, 23] [-94, -67, -65]\n",
      "c [-57, -16, 22, 2, 83, 68, 23] [-94, -67, -65]\n",
      "b [-16, 2, 22, 23, 83, 68] [-94, -67, -65, -57]\n",
      "c [-16, 2, 22, 23, 83, 68] [-94, -67, -65, -57]\n",
      "b [2, 23, 22, 68, 83] [-94, -67, -65, -57, -16]\n",
      "c [2, 23, 22, 68, 83] [-94, -67, -65, -57, -16]\n",
      "b [22, 23, 83, 68] [-94, -67, -65, -57, -16, 2]\n",
      "c [22, 23, 83, 68] [-94, -67, -65, -57, -16, 2]\n",
      "b [23, 68, 83] [-94, -67, -65, -57, -16, 2, 22]\n",
      "c [23, 68, 83] [-94, -67, -65, -57, -16, 2, 22]\n",
      "b [68, 83] [-94, -67, -65, -57, -16, 2, 22, 23]\n",
      "c [68, 83] [-94, -67, -65, -57, -16, 2, 22, 23]\n",
      "b [83] [-94, -67, -65, -57, -16, 2, 22, 23, 68]\n",
      "c [83] [-94, -67, -65, -57, -16, 2, 22, 23, 68]\n",
      "b [] [-94, -67, -65, -57, -16, 2, 22, 23, 68, 83]\n",
      "c [] [-94, -67, -65, -57, -16, 2, 22, 23, 68, 83]\n",
      "fianl result= [-94, -67, -65, -57, -16, 2, 22, 23, 68, 83]\n"
     ]
    }
   ],
   "source": [
    "import random\n",
    "import pandas \n",
    "import numpy as np\n",
    "\n",
    "x = np.random.randint(-100,100,10)\n",
    "arr = x.tolist()\n",
    "\n",
    "def MinH(data,i):\n",
    "    left = 2 * i + 1\n",
    "    right = 2 * i + 2\n",
    "    n = len(data)-1\n",
    "    s = i \n",
    "    if left <= n and data[left] < data[i]:\n",
    "        s = left\n",
    "    if right <= n and data[right] < data[s] :\n",
    "        s = right\n",
    "    if s != i:\n",
    "        data[i],data[s] = data[s],data[i]\n",
    "        MinH(data,s)\n",
    "\n",
    "def HeapS(data):\n",
    "    data = data.copy()\n",
    "    for i in reversed(range(len(data)//2)):\n",
    "        MinH(data,i)\n",
    "    print('a,',data)\n",
    "    sort_d = []\n",
    "    for _ in range(len(data)):\n",
    "        data[0],data[-1] = data[-1],data[0]\n",
    "        sort_d.append(data.pop())\n",
    "        MinH(data,0)\n",
    "        print('b',data,sort_d)\n",
    "        print('c',data,sort_d)\n",
    "    return sort_d\n",
    "        \n",
    "def main(data):\n",
    "    HeapS(data)\n",
    "    print('fianl result=',HeapS(data))\n",
    "\n",
    "main(arr)"
   ]
  },
  {
   "cell_type": "code",
   "execution_count": 134,
   "metadata": {},
   "outputs": [
    {
     "name": "stdout",
     "output_type": "stream",
     "text": [
      "[-45, -40, -36, -13, -1, 2, 7, 38, 51, 76]\n"
     ]
    }
   ],
   "source": [
    "import random\n",
    "import pandas \n",
    "import numpy as np\n",
    "\n",
    "x = np.random.randint(-100,100,10)\n",
    "    #隨機生成數字\n",
    "arr = x.tolist()\n",
    "\n",
    "def MinH(data,i):\n",
    "    n = len(data)-1 #長度\n",
    "    left = 2 * i + 1\n",
    "    #proof\n",
    "    # if root=0,left1=2*0+2=2,\n",
    "    # if root=1,left2=2*1+2=4,\n",
    "    right = 2 * i + 2\n",
    "    #proof\n",
    "    # if root=0,left1=2*0+1=1\n",
    "    # if root=1,left2=2*1+1=3\n",
    "    s = i  #建立root\n",
    "    if left <= n and data[left] < data[i]:\n",
    "        s = left # 判斷 left\n",
    "    if right <= n and  data[right] < data[s]:\n",
    "        s = right# 判斷 right\n",
    "    if s != i: #改變root\n",
    "        data[i],data[s] = data[s],data[i]\n",
    "        MinH(data,s)\n",
    "\n",
    "def HeapS(data):\n",
    "    data = data.copy()\n",
    "    for i in reversed(range(len(data)//2)):\n",
    "        MinH(data,i)\n",
    "        #從最後一層的第二個節點疊代到根節點\n",
    "    sort_d = []#建立newlist\n",
    "    for _ in range(len(data)):\n",
    "        data[0],data[-1] = data[-1],data[0]\n",
    "        sort_d.append(data.pop()) \n",
    "        MinH(data,0)\n",
    "    #swap list[0] remove append to new list\n",
    "    return sort_d\n",
    "        \n",
    "def main(data):\n",
    "    HeapS(data)\n",
    "    print(HeapS(data))\n",
    "    # result\n",
    "\n",
    "main(arr)"
   ]
  },
  {
   "cell_type": "code",
   "execution_count": 150,
   "metadata": {},
   "outputs": [],
   "source": [
    "class Solution(object):\n",
    "    #import random\n",
    "    #import pandas \n",
    "    #import numpy as np\n",
    "\n",
    "    #x = np.random.randint(-100,100,10)\n",
    "    #arr = x.tolist()\n",
    "\n",
    "    def MinH(self,data,i):\n",
    "        n = len(data)-1\n",
    "        left = 2 * i + 1\n",
    "        right = 2 * i + 2\n",
    "        s = i \n",
    "        if left <= n and data[left] < data[i]:\n",
    "            s = left\n",
    "        if right <= n and data[right] < data[s] :\n",
    "            s = right\n",
    "        if s != i:\n",
    "            data[i],data[s] = data[s],data[i]\n",
    "            self.MinH(data,s)\n",
    "            \n",
    "    def heap_sort(self,data):\n",
    "        data = data.copy()\n",
    "        for i in reversed(range(len(data)//2)):\n",
    "            self.MinH(data,i)\n",
    "        sort_d = []\n",
    "        for _ in range(len(data)):\n",
    "            data[0],data[-1] = data[-1],data[0]\n",
    "            sort_d.append(data.pop())\n",
    "            self.MinH(data,0)\n",
    "        return sort_d\n",
    "    \n",
    "    #def main(data):\n",
    "    #HeapS(data)\n",
    "    #print(HeapS(data))\n",
    "    # result\n",
    "    "
   ]
  },
  {
   "cell_type": "code",
   "execution_count": 151,
   "metadata": {},
   "outputs": [
    {
     "data": {
      "text/plain": [
       "[-4, 0, 2, 19, 54, 72, 87]"
      ]
     },
     "execution_count": 151,
     "metadata": {},
     "output_type": "execute_result"
    }
   ],
   "source": [
    "output=Solution().heap_sort([72,2,-4,54,87,0,19])\n",
    "output"
   ]
  }
 ],
 "metadata": {
  "kernelspec": {
   "display_name": "Python 3",
   "language": "python",
   "name": "python3"
  },
  "language_info": {
   "codemirror_mode": {
    "name": "ipython",
    "version": 3
   },
   "file_extension": ".py",
   "mimetype": "text/x-python",
   "name": "python",
   "nbconvert_exporter": "python",
   "pygments_lexer": "ipython3",
   "version": "3.7.4"
  }
 },
 "nbformat": 4,
 "nbformat_minor": 4
}
